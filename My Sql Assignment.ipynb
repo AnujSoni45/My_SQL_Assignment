{
 "cells": [
  {
   "cell_type": "code",
   "execution_count": null,
   "id": "7bce4b0b-bec6-40d9-bcb6-bd7a5136ef45",
   "metadata": {},
   "outputs": [],
   "source": [
    "Q1. What is a database? Differentiate between SQL and NoSQL databases. \n"
   ]
  },
  {
   "cell_type": "code",
   "execution_count": null,
   "id": "71ad4642-e9ff-4e71-82ac-3ffd9fa607f6",
   "metadata": {},
   "outputs": [],
   "source": [
    "(Answer):\n",
    "A database is a structured collection of data that is organized, stored, and managed in a way that allows for efficient retrieval, \n",
    "manipulation, and querying of information. Databases are used in various applications to store and manage vast amounts of data, \n",
    "ranging from small-scale personal projects to large-scale enterprise systems.\n",
    "\n",
    "SQL databases are relational, and NoSQL databases are non-relational. SQL databases use structured query language \n",
    "(SQL) and have a predefined schema. NoSQL databases have dynamic schemas for unstructured data. SQL databases are \n",
    "vertically scalable, while NoSQL databases are horizontally scalable.\n"
   ]
  },
  {
   "cell_type": "code",
   "execution_count": null,
   "id": "8d391ea2-5bd0-4f0e-820b-9ba549281463",
   "metadata": {},
   "outputs": [],
   "source": [
    "Q2. What is DDL? Explain why CREATE, DROP, ALTER, and TRUNCATE are used with an example."
   ]
  },
  {
   "cell_type": "code",
   "execution_count": null,
   "id": "55688585-3da5-4c9b-b11d-18dcf637a5e4",
   "metadata": {},
   "outputs": [],
   "source": [
    "(Answer):\n",
    "DDL stands for \"Data Definition Language,\" and it is a subset of SQL (Structured Query Language) that is used to \n",
    "define, modify, and manage the structure of database objects, such as tables, indexes, and constraints. \n",
    "DDL statements are used to create, alter, drop, and truncate database objects"
   ]
  },
  {
   "cell_type": "code",
   "execution_count": null,
   "id": "fdf24b8a-ee49-400a-87de-6f9a5a4bf433",
   "metadata": {},
   "outputs": [],
   "source": [
    "CREATE:\n",
    "The CREATE statement is used to create new database objects, such as tables, indexes, views, and more. When creating a table, you define the columns and their data types, constraints, and other properties.\n",
    "Example - Creating a new table named \"Customers\":"
   ]
  },
  {
   "cell_type": "code",
   "execution_count": null,
   "id": "c734206e-cf85-4b16-b7dd-48d4e849bfae",
   "metadata": {},
   "outputs": [],
   "source": [
    "Example:\n",
    "CREATE TABLE Customers (\n",
    "    CustomerID INT PRIMARY KEY,\n",
    "    FirstName VARCHAR(50),\n",
    "    LastName VARCHAR(50),\n",
    "    Email VARCHAR(100) UNIQUE\n",
    ");\n"
   ]
  },
  {
   "cell_type": "code",
   "execution_count": null,
   "id": "d850ec4e-34b7-4b91-b142-5a35ac2829d7",
   "metadata": {},
   "outputs": [],
   "source": [
    "DROP:\n",
    "The DROP statement is used to remove existing database objects, such as tables, indexes, or views. This operation permanently deletes the object and its associated data.\n",
    "Example - Dropping a table named \"Orders\":"
   ]
  },
  {
   "cell_type": "code",
   "execution_count": null,
   "id": "4fd6ac54-6bfe-43fc-963e-e9fbd58c09be",
   "metadata": {},
   "outputs": [],
   "source": [
    "DROP TABLE Orders;\n"
   ]
  },
  {
   "cell_type": "code",
   "execution_count": null,
   "id": "732b8550-106a-467f-b0dc-09d79a846ea8",
   "metadata": {},
   "outputs": [],
   "source": [
    "ALTER:\n",
    "The ALTER statement is used to modify the structure of an existing database object, such as adding, modifying, or dropping columns from a table.\n",
    "Example - Adding a new column named \"PhoneNumber\" to the \"Customers\" table:"
   ]
  },
  {
   "cell_type": "code",
   "execution_count": null,
   "id": "0a94beb5-f4f4-43f9-a6d0-1881c854514a",
   "metadata": {},
   "outputs": [],
   "source": [
    "ALTER TABLE Customers\n",
    "ADD PhoneNumber VARCHAR(20);\n"
   ]
  },
  {
   "cell_type": "code",
   "execution_count": null,
   "id": "c91f18f7-bbe5-44c8-b76e-a39df84cd4c8",
   "metadata": {},
   "outputs": [],
   "source": [
    "TRUNCATE:\n",
    "The TRUNCATE statement is used to remove all rows from a table while keeping the table structure intact. It is a faster operation compared to the DELETE statement, as it doesn't log individual row deletions and doesn't activate triggers.\n",
    "Example - Truncating the \"Products\" table:"
   ]
  },
  {
   "cell_type": "code",
   "execution_count": null,
   "id": "7a3197ab-a093-4360-bc26-0acee037eae6",
   "metadata": {},
   "outputs": [],
   "source": [
    "TRUNCATE TABLE Products;\n"
   ]
  },
  {
   "cell_type": "code",
   "execution_count": null,
   "id": "fd297bea-5d42-4ca1-9257-7534cb0fda49",
   "metadata": {},
   "outputs": [],
   "source": [
    "Q3. What is DML? Explain INSERT, UPDATE, and DELETE with an example. \n"
   ]
  },
  {
   "cell_type": "code",
   "execution_count": null,
   "id": "ea9adef9-1bc1-4903-81ed-4edb73269389",
   "metadata": {},
   "outputs": [],
   "source": [
    "(Answer):\n",
    "DML stands for \"Data Manipulation Language,\" and it is a subset of SQL (Structured Query Language) that deals \n",
    "with the manipulation of data stored in a database. DML statements are used to perform operations such as \n",
    "inserting, updating, and deleting data within the database tables. "
   ]
  },
  {
   "cell_type": "code",
   "execution_count": null,
   "id": "00fb74d0-f3f0-499c-b18d-e42429ae438d",
   "metadata": {},
   "outputs": [],
   "source": [
    "INSERT:\n",
    "The INSERT statement is used to add new rows of data into a table. It allows you to specify the values for each column in the new row.\n",
    "Example - Inserting a new customer record into the \"Customers\" table:"
   ]
  },
  {
   "cell_type": "code",
   "execution_count": null,
   "id": "c5617c66-fc75-416b-aed5-42c128bfa149",
   "metadata": {},
   "outputs": [],
   "source": [
    "INSERT INTO Customers (CustomerID, FirstName, LastName, Email)\n",
    "VALUES (101, 'John', 'Doe', 'john.doe@example.com');\n"
   ]
  },
  {
   "cell_type": "code",
   "execution_count": null,
   "id": "6bd0cac8-23cc-4de8-b406-00a9ce729c23",
   "metadata": {},
   "outputs": [],
   "source": [
    "UPDATE:\n",
    "The UPDATE statement is used to modify existing data within a table. It allows you to change the values of one or more columns in one or more rows.\n",
    "Example - Updating the email address of a customer in the \"Customers\" table:"
   ]
  },
  {
   "cell_type": "code",
   "execution_count": null,
   "id": "72a882a4-250f-4f0a-92ef-639184787b16",
   "metadata": {},
   "outputs": [],
   "source": [
    "UPDATE Customers\n",
    "SET Email = 'johndoe@example.com'\n",
    "WHERE CustomerID = 101;\n"
   ]
  },
  {
   "cell_type": "code",
   "execution_count": null,
   "id": "d7626c48-5127-4606-a39f-05a8293474bd",
   "metadata": {},
   "outputs": [],
   "source": [
    "DELETE:\n",
    "The DELETE statement is used to remove one or more rows from a table based on a specified condition.\n",
    "Example - Deleting a customer record from the \"Customers\" table:"
   ]
  },
  {
   "cell_type": "code",
   "execution_count": null,
   "id": "6ec6b03f-9fef-4db4-b380-e119f4f72b1f",
   "metadata": {},
   "outputs": [],
   "source": [
    "DELETE FROM Customers\n",
    "WHERE CustomerID = 101;\n"
   ]
  },
  {
   "cell_type": "code",
   "execution_count": null,
   "id": "f96e7ecc-6b79-4182-bc55-019032bb54e0",
   "metadata": {},
   "outputs": [],
   "source": [
    "Q4. What is DQL? Explain SELECT with an example. \n"
   ]
  },
  {
   "cell_type": "code",
   "execution_count": null,
   "id": "0611dbce-3c8b-4922-9ced-b636dc87ca2d",
   "metadata": {},
   "outputs": [],
   "source": [
    "(Answer):\n",
    "DQL stands for \"Data Query Language,\" and it is a subset of SQL (Structured Query Language) that is used to \n",
    "retrieve and query data from a database. The primary DQL statement is the SELECT statement, which allows you to \n",
    "specify which data you want to retrieve from one or more database tables. "
   ]
  },
  {
   "cell_type": "code",
   "execution_count": null,
   "id": "01bceba6-cff9-4557-a5fc-811f44261ebe",
   "metadata": {},
   "outputs": [],
   "source": [
    "Example - Retrieving the names and email addresses of all customers from the \"Customers\" table:\n",
    "    SELECT FirstName, LastName, Email\n",
    "    FROM Customers;\n"
   ]
  },
  {
   "cell_type": "code",
   "execution_count": null,
   "id": "8c11d3f1-9b27-4218-a2b0-127337edb3b8",
   "metadata": {},
   "outputs": [],
   "source": [
    "Q5. Explain Primary Key and Foreign Key. \n"
   ]
  },
  {
   "cell_type": "code",
   "execution_count": null,
   "id": "d74db6e0-0868-480f-9c50-7aa4e7669115",
   "metadata": {},
   "outputs": [],
   "source": [
    "(Answer):\n",
    "Primary Key:\n",
    "A primary key is a column or a set of columns in a database table that uniquely identifies each row or record \n",
    "in that table. It enforces the uniqueness constraint, ensuring that no two rows have the same values in the\n",
    "primary key columns. Additionally, a primary key column cannot contain NULL values, as NULL values are not \n",
    "considered unique.\n",
    "\n",
    "Foreign Key:\n",
    "A foreign key is a column or a set of columns in a database table that establishes a link between data in two \n",
    "different tables. It represents a relationship between the tables, typically associating rows in one table with \n",
    "rows in another. The foreign key column(s) in one table refer to the primary key column(s) in another table."
   ]
  },
  {
   "cell_type": "code",
   "execution_count": null,
   "id": "947450f9-a291-4ab7-a7bb-b0140c2e1a08",
   "metadata": {},
   "outputs": [],
   "source": [
    "Q6. Write a python code to connect MySQL to python. Explain the cursor() and execute() method."
   ]
  },
  {
   "cell_type": "code",
   "execution_count": null,
   "id": "90dd6011-2f5e-498d-9843-d3b6e8344b26",
   "metadata": {},
   "outputs": [],
   "source": [
    " Install the library using the following command:\n",
    "    pip install mysql-connector-python\n"
   ]
  },
  {
   "cell_type": "code",
   "execution_count": null,
   "id": "cef867cd-f5a4-4a12-8217-e42eab3965da",
   "metadata": {},
   "outputs": [],
   "source": [
    "import mysql.connector\n",
    "\n",
    "# Establish the database connection\n",
    "db_connection = mysql.connector.connect(\n",
    "    host=\"your_host\",\n",
    "    user=\"your_username\",\n",
    "    password=\"your_password\",\n",
    "    database=\"your_database\"\n",
    ")\n",
    "\n",
    "# Create a cursor object to interact with the database\n",
    "cursor = db_connection.cursor()\n",
    "\n",
    "# Perform a SQL query using the execute() method\n",
    "query = \"SELECT * FROM Customers\"\n",
    "cursor.execute(query)\n",
    "\n",
    "# Fetch the results using fetchall() method\n",
    "results = cursor.fetchall()\n",
    "\n",
    "# Display the results\n",
    "for row in results:\n",
    "    print(row)\n",
    "\n",
    "# Close the cursor and the database connection\n",
    "cursor.close()\n",
    "db_connection.close()\n"
   ]
  },
  {
   "cell_type": "code",
   "execution_count": null,
   "id": "d5a7c203-c5dc-4372-a58f-955cdb820718",
   "metadata": {},
   "outputs": [],
   "source": [
    " Q7. Give the order of execution of SQL clauses in an SQL query. \n"
   ]
  },
  {
   "cell_type": "code",
   "execution_count": null,
   "id": "e156e5ff-1ac3-4982-ac67-e439e45ee00f",
   "metadata": {},
   "outputs": [],
   "source": [
    "(Answer):\n",
    "FROM Clause:\n",
    "The FROM clause specifies the table or tables from which you want to retrieve data.\n",
    "\n",
    "JOIN Clause:\n",
    "If you are performing joins to combine data from multiple tables, the JOIN clauses are processed next. Different types of joins (INNER JOIN, LEFT JOIN, RIGHT JOIN, etc.) determine how data is combined from the involved tables.\n",
    "\n",
    "WHERE Clause:\n",
    "The WHERE clause filters the rows returned by the query based on specified conditions. Rows that do not meet the conditions are excluded.\n",
    "\n",
    "GROUP BY Clause:\n",
    "If you are using the GROUP BY clause, the data is grouped based on the specified columns. Aggregation functions like COUNT, SUM, AVG, etc., are applied to the grouped data.\n",
    "\n",
    "HAVING Clause:\n",
    "If a GROUP BY clause is used, the HAVING clause filters the grouped data based on aggregate conditions.\n",
    "\n",
    "SELECT Clause:\n",
    "The SELECT clause determines which columns to include in the result set. It also includes any calculated columns or expressions.\n",
    "\n",
    "DISTINCT Clause:\n",
    "If the DISTINCT keyword is used, duplicate rows are removed from the result set.\n",
    "\n",
    "ORDER BY Clause:\n",
    "The ORDER BY clause specifies the sorting order of the result set based on specified columns. The sorting is applied after all previous operations.\n",
    "\n",
    "LIMIT/OFFSET Clause:\n",
    "If supported by the database system, the LIMIT and OFFSET clauses are applied to limit the number of rows returned and to specify a starting point."
   ]
  }
 ],
 "metadata": {
  "kernelspec": {
   "display_name": "Python 3 (ipykernel)",
   "language": "python",
   "name": "python3"
  },
  "language_info": {
   "codemirror_mode": {
    "name": "ipython",
    "version": 3
   },
   "file_extension": ".py",
   "mimetype": "text/x-python",
   "name": "python",
   "nbconvert_exporter": "python",
   "pygments_lexer": "ipython3",
   "version": "3.10.8"
  }
 },
 "nbformat": 4,
 "nbformat_minor": 5
}
